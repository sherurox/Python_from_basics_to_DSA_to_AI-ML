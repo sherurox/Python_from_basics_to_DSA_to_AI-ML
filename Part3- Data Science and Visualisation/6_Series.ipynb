{
 "cells": [
  {
   "cell_type": "code",
   "execution_count": 1,
   "id": "6a7cdd13-30d9-4fc5-b58d-bd7be1f7cf08",
   "metadata": {},
   "outputs": [],
   "source": [
    "import numpy as np"
   ]
  },
  {
   "cell_type": "code",
   "execution_count": 3,
   "id": "3f1ac745-b0d6-490a-a44b-a4f8a02f9eea",
   "metadata": {},
   "outputs": [],
   "source": [
    "import pandas as pd"
   ]
  },
  {
   "cell_type": "code",
   "execution_count": 19,
   "id": "4b5a69e3-7e65-45a7-91b2-61233d6b5c96",
   "metadata": {},
   "outputs": [],
   "source": [
    "y = [10,20,30,40,50]\n",
    "x = ['a','b','c','d','e']\n",
    "z = { 1:'a', 2:'b', 3:'c', 4:'d', 5:'e'} "
   ]
  },
  {
   "cell_type": "code",
   "execution_count": 21,
   "id": "b0ddfd64-7c29-49b4-acca-522398d00352",
   "metadata": {},
   "outputs": [],
   "source": [
    "a = pd.Series(data = x)"
   ]
  },
  {
   "cell_type": "code",
   "execution_count": 23,
   "id": "4883b923-f02e-4485-9ac3-5fd60587fb57",
   "metadata": {},
   "outputs": [
    {
     "data": {
      "text/plain": [
       "0    a\n",
       "1    b\n",
       "2    c\n",
       "3    d\n",
       "4    e\n",
       "dtype: object"
      ]
     },
     "execution_count": 23,
     "metadata": {},
     "output_type": "execute_result"
    }
   ],
   "source": [
    "a"
   ]
  },
  {
   "cell_type": "code",
   "execution_count": 25,
   "id": "7033321f-392b-4897-98b3-7c731ddb5994",
   "metadata": {},
   "outputs": [
    {
     "data": {
      "text/plain": [
       "pandas.core.series.Series"
      ]
     },
     "execution_count": 25,
     "metadata": {},
     "output_type": "execute_result"
    }
   ],
   "source": [
    "type(a)"
   ]
  },
  {
   "cell_type": "code",
   "execution_count": 27,
   "id": "6c692dc0-9411-45aa-9e09-975b7befc4a0",
   "metadata": {},
   "outputs": [],
   "source": [
    "b = pd.Series(data = x, index = y)"
   ]
  },
  {
   "cell_type": "code",
   "execution_count": 29,
   "id": "1eec7623-58c5-4dd4-a685-362a86750e07",
   "metadata": {},
   "outputs": [
    {
     "data": {
      "text/plain": [
       "10    a\n",
       "20    b\n",
       "30    c\n",
       "40    d\n",
       "50    e\n",
       "dtype: object"
      ]
     },
     "execution_count": 29,
     "metadata": {},
     "output_type": "execute_result"
    }
   ],
   "source": [
    "b"
   ]
  },
  {
   "cell_type": "code",
   "execution_count": 31,
   "id": "b0d03d37-fc05-4d89-8bd5-9f4cb969e444",
   "metadata": {},
   "outputs": [
    {
     "data": {
      "text/plain": [
       "10    a\n",
       "20    b\n",
       "30    c\n",
       "40    d\n",
       "50    e\n",
       "dtype: object"
      ]
     },
     "execution_count": 31,
     "metadata": {},
     "output_type": "execute_result"
    }
   ],
   "source": [
    "pd.Series(x,y)"
   ]
  },
  {
   "cell_type": "code",
   "execution_count": 33,
   "id": "cb36686e-5b91-484d-b5d1-2ad6df4f28b1",
   "metadata": {},
   "outputs": [
    {
     "data": {
      "text/plain": [
       "a    10\n",
       "b    20\n",
       "c    30\n",
       "d    40\n",
       "e    50\n",
       "dtype: int64"
      ]
     },
     "execution_count": 33,
     "metadata": {},
     "output_type": "execute_result"
    }
   ],
   "source": [
    "pd.Series(y,x)"
   ]
  },
  {
   "cell_type": "code",
   "execution_count": 35,
   "id": "3dc8940e-9172-46ab-8175-c59cbf3dd7b3",
   "metadata": {},
   "outputs": [
    {
     "data": {
      "text/plain": [
       "1    a\n",
       "2    b\n",
       "3    c\n",
       "4    d\n",
       "5    e\n",
       "dtype: object"
      ]
     },
     "execution_count": 35,
     "metadata": {},
     "output_type": "execute_result"
    }
   ],
   "source": [
    "pd.Series(z)"
   ]
  },
  {
   "cell_type": "code",
   "execution_count": 55,
   "id": "2180fc8d-7b44-4b52-a81e-0ed23c408923",
   "metadata": {},
   "outputs": [],
   "source": [
    "x2 = ['a','b','c','d','e']"
   ]
  },
  {
   "cell_type": "code",
   "execution_count": 57,
   "id": "0ebd98cd-4cdf-4eee-9032-ba5472add90f",
   "metadata": {},
   "outputs": [],
   "source": [
    "n = pd.Series(y,x2)"
   ]
  },
  {
   "cell_type": "code",
   "execution_count": 59,
   "id": "63469988-603c-408b-a96e-f0348a337bc7",
   "metadata": {},
   "outputs": [],
   "source": [
    "m = pd.Series(y,x)"
   ]
  },
  {
   "cell_type": "code",
   "execution_count": 61,
   "id": "dc5a41f4-d089-4994-bc7b-6fde4ac15276",
   "metadata": {},
   "outputs": [
    {
     "data": {
      "text/plain": [
       "a     20\n",
       "b     40\n",
       "c     60\n",
       "d     80\n",
       "e    100\n",
       "dtype: int64"
      ]
     },
     "execution_count": 61,
     "metadata": {},
     "output_type": "execute_result"
    }
   ],
   "source": [
    "m + n"
   ]
  },
  {
   "cell_type": "code",
   "execution_count": 63,
   "id": "950cd2ef-a829-4c46-a3d4-59ade104332f",
   "metadata": {},
   "outputs": [
    {
     "data": {
      "text/plain": [
       "10"
      ]
     },
     "execution_count": 63,
     "metadata": {},
     "output_type": "execute_result"
    }
   ],
   "source": [
    "m ['a']"
   ]
  },
  {
   "cell_type": "code",
   "execution_count": 65,
   "id": "b1b330f8-2e09-4442-bf64-50f65a983452",
   "metadata": {},
   "outputs": [
    {
     "data": {
      "text/plain": [
       "a    10\n",
       "b    20\n",
       "c    30\n",
       "d    40\n",
       "e    50\n",
       "dtype: int64"
      ]
     },
     "execution_count": 65,
     "metadata": {},
     "output_type": "execute_result"
    }
   ],
   "source": [
    "m ['a':]"
   ]
  },
  {
   "cell_type": "code",
   "execution_count": 67,
   "id": "a1f814df-f2f9-4699-8678-2b541805aa7d",
   "metadata": {},
   "outputs": [
    {
     "data": {
      "text/plain": [
       "a    10\n",
       "b    20\n",
       "c    30\n",
       "dtype: int64"
      ]
     },
     "execution_count": 67,
     "metadata": {},
     "output_type": "execute_result"
    }
   ],
   "source": [
    "m ['a':'c']"
   ]
  },
  {
   "cell_type": "code",
   "execution_count": null,
   "id": "4ac9bce4-8f90-4f51-9a64-47ab8862a7f1",
   "metadata": {},
   "outputs": [],
   "source": []
  }
 ],
 "metadata": {
  "kernelspec": {
   "display_name": "Python 3 (ipykernel)",
   "language": "python",
   "name": "python3"
  },
  "language_info": {
   "codemirror_mode": {
    "name": "ipython",
    "version": 3
   },
   "file_extension": ".py",
   "mimetype": "text/x-python",
   "name": "python",
   "nbconvert_exporter": "python",
   "pygments_lexer": "ipython3",
   "version": "3.12.4"
  }
 },
 "nbformat": 4,
 "nbformat_minor": 5
}
