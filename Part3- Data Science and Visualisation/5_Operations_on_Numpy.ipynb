{
 "cells": [
  {
   "cell_type": "code",
   "execution_count": 2,
   "id": "97ba10da-2638-4e75-81fa-17f34361f59b",
   "metadata": {},
   "outputs": [],
   "source": [
    "import numpy as np"
   ]
  },
  {
   "cell_type": "code",
   "execution_count": 6,
   "id": "1474722f-d7a5-49ad-a13c-ecb37f18a320",
   "metadata": {},
   "outputs": [],
   "source": [
    "x = np.arange(10)"
   ]
  },
  {
   "cell_type": "code",
   "execution_count": 8,
   "id": "c668f8f9-1582-4af3-924e-70c1596d18a9",
   "metadata": {},
   "outputs": [],
   "source": [
    "y = np.arange(10,20)"
   ]
  },
  {
   "cell_type": "code",
   "execution_count": 10,
   "id": "a8ffaa4d-6252-4a2a-91c8-76498d052a0c",
   "metadata": {},
   "outputs": [
    {
     "data": {
      "text/plain": [
       "array([0, 1, 2, 3, 4, 5, 6, 7, 8, 9])"
      ]
     },
     "execution_count": 10,
     "metadata": {},
     "output_type": "execute_result"
    }
   ],
   "source": [
    "x"
   ]
  },
  {
   "cell_type": "code",
   "execution_count": 12,
   "id": "154d7172-747c-47a2-9823-3a44a5ce7e5d",
   "metadata": {},
   "outputs": [
    {
     "data": {
      "text/plain": [
       "array([10, 11, 12, 13, 14, 15, 16, 17, 18, 19])"
      ]
     },
     "execution_count": 12,
     "metadata": {},
     "output_type": "execute_result"
    }
   ],
   "source": [
    "y"
   ]
  },
  {
   "cell_type": "code",
   "execution_count": 14,
   "id": "2bf0f150-3b55-4422-b945-36b2112cd4fe",
   "metadata": {},
   "outputs": [],
   "source": [
    "z = x+y"
   ]
  },
  {
   "cell_type": "code",
   "execution_count": 16,
   "id": "5e457497-51ef-4f93-b2bd-585ee616732a",
   "metadata": {},
   "outputs": [
    {
     "data": {
      "text/plain": [
       "array([10, 12, 14, 16, 18, 20, 22, 24, 26, 28])"
      ]
     },
     "execution_count": 16,
     "metadata": {},
     "output_type": "execute_result"
    }
   ],
   "source": [
    "z"
   ]
  },
  {
   "cell_type": "code",
   "execution_count": 18,
   "id": "2dc9dde0-1f67-4703-9875-72d054fabdf0",
   "metadata": {},
   "outputs": [],
   "source": [
    "z = x-y"
   ]
  },
  {
   "cell_type": "code",
   "execution_count": 20,
   "id": "1cfd60d6-1564-453d-b596-a0117f93ac12",
   "metadata": {},
   "outputs": [
    {
     "data": {
      "text/plain": [
       "array([-10, -10, -10, -10, -10, -10, -10, -10, -10, -10])"
      ]
     },
     "execution_count": 20,
     "metadata": {},
     "output_type": "execute_result"
    }
   ],
   "source": [
    "z"
   ]
  },
  {
   "cell_type": "code",
   "execution_count": 22,
   "id": "a57ab256-e580-466b-b9d6-82896fe7b62d",
   "metadata": {},
   "outputs": [],
   "source": [
    "z = x*y"
   ]
  },
  {
   "cell_type": "code",
   "execution_count": 24,
   "id": "3d6b5f64-5f63-440f-bae8-22c02b08d53a",
   "metadata": {},
   "outputs": [
    {
     "data": {
      "text/plain": [
       "array([  0,  11,  24,  39,  56,  75,  96, 119, 144, 171])"
      ]
     },
     "execution_count": 24,
     "metadata": {},
     "output_type": "execute_result"
    }
   ],
   "source": [
    "z"
   ]
  },
  {
   "cell_type": "code",
   "execution_count": 26,
   "id": "b3be76ac-f36a-4122-807a-1823dcdf9a4b",
   "metadata": {},
   "outputs": [],
   "source": [
    "z =x/y"
   ]
  },
  {
   "cell_type": "code",
   "execution_count": 28,
   "id": "32616c98-f4e4-4984-a036-460d36f565ff",
   "metadata": {},
   "outputs": [
    {
     "data": {
      "text/plain": [
       "array([0.        , 0.09090909, 0.16666667, 0.23076923, 0.28571429,\n",
       "       0.33333333, 0.375     , 0.41176471, 0.44444444, 0.47368421])"
      ]
     },
     "execution_count": 28,
     "metadata": {},
     "output_type": "execute_result"
    }
   ],
   "source": [
    "z"
   ]
  },
  {
   "cell_type": "code",
   "execution_count": 30,
   "id": "70a89103-b131-44b8-9676-831353604185",
   "metadata": {},
   "outputs": [
    {
     "data": {
      "text/plain": [
       "array([ 0.        ,  0.84147098,  0.90929743,  0.14112001, -0.7568025 ,\n",
       "       -0.95892427, -0.2794155 ,  0.6569866 ,  0.98935825,  0.41211849])"
      ]
     },
     "execution_count": 30,
     "metadata": {},
     "output_type": "execute_result"
    }
   ],
   "source": [
    "np.sin(x)"
   ]
  },
  {
   "cell_type": "code",
   "execution_count": 32,
   "id": "823b6fc9-fcad-449d-8bbd-14d78e219c93",
   "metadata": {},
   "outputs": [
    {
     "name": "stderr",
     "output_type": "stream",
     "text": [
      "/var/folders/zg/dr1dfh1x4rvct__ws9tns1h40000gn/T/ipykernel_35265/1277889159.py:1: RuntimeWarning: divide by zero encountered in log\n",
      "  np.log(x)\n"
     ]
    },
    {
     "data": {
      "text/plain": [
       "array([      -inf, 0.        , 0.69314718, 1.09861229, 1.38629436,\n",
       "       1.60943791, 1.79175947, 1.94591015, 2.07944154, 2.19722458])"
      ]
     },
     "execution_count": 32,
     "metadata": {},
     "output_type": "execute_result"
    }
   ],
   "source": [
    "np.log(x)"
   ]
  },
  {
   "cell_type": "code",
   "execution_count": 34,
   "id": "717670fd-ab48-47f1-8f46-859d9ad357fe",
   "metadata": {},
   "outputs": [
    {
     "data": {
      "text/plain": [
       "9"
      ]
     },
     "execution_count": 34,
     "metadata": {},
     "output_type": "execute_result"
    }
   ],
   "source": [
    "np.max(x)"
   ]
  },
  {
   "cell_type": "code",
   "execution_count": 36,
   "id": "dc240e4e-ddc5-48b5-b3c9-a88089a1a469",
   "metadata": {},
   "outputs": [],
   "source": [
    "x = np.arange(12).reshape(3,4)"
   ]
  },
  {
   "cell_type": "code",
   "execution_count": 38,
   "id": "9bff935a-6bee-4302-b70e-135124d9dfc7",
   "metadata": {},
   "outputs": [
    {
     "data": {
      "text/plain": [
       "array([[ 0,  1,  2,  3],\n",
       "       [ 4,  5,  6,  7],\n",
       "       [ 8,  9, 10, 11]])"
      ]
     },
     "execution_count": 38,
     "metadata": {},
     "output_type": "execute_result"
    }
   ],
   "source": [
    "x"
   ]
  },
  {
   "cell_type": "code",
   "execution_count": 40,
   "id": "29e19898-77b1-4129-9fb8-b51c9768ef89",
   "metadata": {},
   "outputs": [],
   "source": [
    "y = np.arange(10,22).reshape(3,4)"
   ]
  },
  {
   "cell_type": "code",
   "execution_count": 42,
   "id": "9586e619-02ea-4b26-964b-46d2fd3bacc5",
   "metadata": {},
   "outputs": [
    {
     "data": {
      "text/plain": [
       "array([[10, 11, 12, 13],\n",
       "       [14, 15, 16, 17],\n",
       "       [18, 19, 20, 21]])"
      ]
     },
     "execution_count": 42,
     "metadata": {},
     "output_type": "execute_result"
    }
   ],
   "source": [
    "y"
   ]
  },
  {
   "cell_type": "code",
   "execution_count": 44,
   "id": "cbd4fb10-9db6-4783-90f7-d32097dd1720",
   "metadata": {},
   "outputs": [
    {
     "data": {
      "text/plain": [
       "array([[10, 12, 14, 16],\n",
       "       [18, 20, 22, 24],\n",
       "       [26, 28, 30, 32]])"
      ]
     },
     "execution_count": 44,
     "metadata": {},
     "output_type": "execute_result"
    }
   ],
   "source": [
    "x+y"
   ]
  },
  {
   "cell_type": "code",
   "execution_count": 46,
   "id": "6cf98b57-4f43-4f23-8396-cee91a3b720d",
   "metadata": {},
   "outputs": [],
   "source": [
    "# 1. Import NumPy\n",
    "# import numpy as np\n",
    "\n",
    "# 2. Create a NumPy array\n",
    "# arr = np.array([1, 2, 3])\n",
    "\n",
    "# 3. Generate an array of zeros\n",
    "# zeros = np.zeros((2, 3))\n",
    "\n",
    "# 4. Generate an array of ones\n",
    "# ones = np.ones((3, 2))\n",
    "\n",
    "# 5. Create an identity matrix\n",
    "# identity = np.eye(3)\n",
    "\n",
    "# 6. Create an array with a range of numbers\n",
    "# arange = np.arange(0, 10, 2)\n",
    "\n",
    "# 7. Create an array of evenly spaced numbers\n",
    "# linspace = np.linspace(0, 1, 5)\n",
    "\n",
    "# 8. Generate random numbers from a uniform distribution\n",
    "# random_uniform = np.random.rand(3, 3)\n",
    "\n",
    "# 9. Generate random integers\n",
    "# random_integers = np.random.randint(0, 10, size=(3, 3))\n",
    "\n",
    "# 10. Generate random numbers from a normal distribution\n",
    "# random_normal = np.random.randn(3, 3)\n",
    "\n",
    "# 11. Reshape an array\n",
    "# reshaped = arr.reshape(3, 1)\n",
    "\n",
    "# 12. Flatten an array\n",
    "# flattened = arr.flatten()\n",
    "\n",
    "# 13. Transpose a matrix\n",
    "# transposed = arr.T\n",
    "\n",
    "# 14. Element-wise addition\n",
    "# added = arr1 + arr2\n",
    "\n",
    "# 15. Element-wise subtraction\n",
    "# subtracted = arr1 - arr2\n",
    "\n",
    "# 16. Element-wise multiplication\n",
    "# multiplied = arr1 * arr2\n",
    "\n",
    "# 17. Element-wise division\n",
    "# divided = arr1 / arr2\n",
    "\n",
    "# 18. Dot product of matrices\n",
    "# dot_product = np.dot(arr1, arr2)\n",
    "\n",
    "# 19. Matrix multiplication\n",
    "# matmul = np.matmul(arr1, arr2)\n",
    "\n",
    "# 20. Calculate the inverse of a matrix\n",
    "# inverse = np.linalg.inv(matrix)\n",
    "\n",
    "# 21. Calculate the determinant of a matrix\n",
    "# determinant = np.linalg.det(matrix)\n",
    "\n",
    "# 22. Calculate eigenvalues and eigenvectors\n",
    "# eigenvalues, eigenvectors = np.linalg.eig(matrix)\n",
    "\n",
    "# 23. Calculate the norm of a vector\n",
    "# norm = np.linalg.norm(vector)\n",
    "\n",
    "# 24. Calculate the rank of a matrix\n",
    "# rank = np.linalg.matrix_rank(matrix)\n",
    "\n",
    "# 25. Solve a system of linear equations\n",
    "# solution = np.linalg.solve(A, b)\n",
    "\n",
    "# 26. Calculate the trace of a matrix\n",
    "# trace = np.trace(matrix)\n",
    "\n",
    "# 27. Find the mean of an array\n",
    "# mean = np.mean(arr)\n",
    "\n",
    "# 28. Find the median of an array\n",
    "# median = np.median(arr)\n",
    "\n",
    "# 29. Find the standard deviation of an array\n",
    "# std = np.std(arr)\n",
    "\n",
    "# 30. Find the variance of an array\n",
    "# variance = np.var(arr)\n",
    "\n",
    "# 31. Find the minimum value in an array\n",
    "# min_val = np.min(arr)\n",
    "\n",
    "# 32. Find the maximum value in an array\n",
    "# max_val = np.max(arr)\n",
    "\n",
    "# 33. Calculate the sum of array elements\n",
    "# sum_val = np.sum(arr)\n",
    "\n",
    "# 34. Find the index of the minimum value\n",
    "# argmin = np.argmin(arr)\n",
    "\n",
    "# 35. Find the index of the maximum value\n",
    "# argmax = np.argmax(arr)\n",
    "\n",
    "# 36. Sort an array\n",
    "# sorted_array = np.sort(arr)\n",
    "\n",
    "# 37. Concatenate arrays\n",
    "# concatenated = np.concatenate((arr1, arr2), axis=0)\n",
    "\n",
    "# 38. Stack arrays vertically\n",
    "# vstacked = np.vstack((arr1, arr2))\n",
    "\n",
    "# 39. Stack arrays horizontally\n",
    "# hstacked = np.hstack((arr1, arr2))\n",
    "\n",
    "# 40. Split an array\n",
    "# split = np.split(arr, 3)\n",
    "\n",
    "# 41. Tile an array\n",
    "# tiled = np.tile(arr, (2, 2))\n",
    "\n",
    "# 42. Repeat elements of an array\n",
    "# repeated = np.repeat(arr, 2)\n",
    "\n",
    "# 43. Find unique elements in an array\n",
    "# unique_elements = np.unique(arr)\n",
    "\n",
    "# 44. Check for NaN values\n",
    "# has_nan = np.isnan(arr)\n",
    "\n",
    "# 45. Replace NaN values\n",
    "# replaced_nan = np.nan_to_num(arr)\n",
    "\n",
    "# 46. Apply a function element-wise\n",
    "# applied = np.vectorize(lambda x: x**2)(arr)\n",
    "\n",
    "# 47. Boolean masking\n",
    "# masked = arr[arr > 5]\n",
    "\n",
    "# 48. Create a diagonal matrix\n",
    "# diagonal_matrix = np.diag([1, 2, 3])\n",
    "\n",
    "# 49. Calculate the cumulative sum\n",
    "# cumulative_sum = np.cumsum(arr)\n",
    "\n",
    "# 50. Calculate the cumulative product\n",
    "# cumulative_product = np.cumprod(arr)\n"
   ]
  },
  {
   "cell_type": "code",
   "execution_count": 48,
   "id": "6356a353-7f59-4d41-9148-8c796ee4358e",
   "metadata": {},
   "outputs": [
    {
     "data": {
      "text/plain": [
       "66"
      ]
     },
     "execution_count": 48,
     "metadata": {},
     "output_type": "execute_result"
    }
   ],
   "source": [
    "x.sum()"
   ]
  },
  {
   "cell_type": "code",
   "execution_count": 52,
   "id": "a6d68d3e-5336-4194-8ef3-3b7b756643c6",
   "metadata": {},
   "outputs": [],
   "source": [
    "m = np.full(3,3),True"
   ]
  },
  {
   "cell_type": "code",
   "execution_count": 54,
   "id": "f985f7d6-d3ab-4ec2-840f-06ef83493ab7",
   "metadata": {},
   "outputs": [
    {
     "data": {
      "text/plain": [
       "(array([3, 3, 3]), True)"
      ]
     },
     "execution_count": 54,
     "metadata": {},
     "output_type": "execute_result"
    }
   ],
   "source": [
    "m"
   ]
  },
  {
   "cell_type": "code",
   "execution_count": 58,
   "id": "3f57bec0-1dfc-4434-a3c9-88c79908b8b6",
   "metadata": {},
   "outputs": [
    {
     "data": {
      "text/plain": [
       "array([10, 11])"
      ]
     },
     "execution_count": 58,
     "metadata": {},
     "output_type": "execute_result"
    }
   ],
   "source": [
    "np.intersect1d(x,y)"
   ]
  },
  {
   "cell_type": "code",
   "execution_count": null,
   "id": "26403d60-2c5d-4303-92f5-4b9982025b70",
   "metadata": {},
   "outputs": [],
   "source": []
  }
 ],
 "metadata": {
  "kernelspec": {
   "display_name": "Python 3 (ipykernel)",
   "language": "python",
   "name": "python3"
  },
  "language_info": {
   "codemirror_mode": {
    "name": "ipython",
    "version": 3
   },
   "file_extension": ".py",
   "mimetype": "text/x-python",
   "name": "python",
   "nbconvert_exporter": "python",
   "pygments_lexer": "ipython3",
   "version": "3.12.4"
  }
 },
 "nbformat": 4,
 "nbformat_minor": 5
}
