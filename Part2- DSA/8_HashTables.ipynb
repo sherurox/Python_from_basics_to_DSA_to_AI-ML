{
 "cells": [
  {
   "cell_type": "code",
   "execution_count": null,
   "id": "b6890e5b",
   "metadata": {},
   "outputs": [],
   "source": [
    "# It is like creating our own Dictionary  like {\"nails\" : 1000} but when put through a function, returns an index"
   ]
  },
  {
   "cell_type": "code",
   "execution_count": null,
   "id": "1f2db166",
   "metadata": {},
   "outputs": [],
   "source": [
    "#Collisions are dealt witha method called \"Seprate Chaining\""
   ]
  },
  {
   "cell_type": "code",
   "execution_count": null,
   "id": "5f54581a",
   "metadata": {},
   "outputs": [],
   "source": [
    "# Prime numbers increases the randomness in a key table"
   ]
  },
  {
   "cell_type": "code",
   "execution_count": 1,
   "id": "e2b77e1d",
   "metadata": {},
   "outputs": [
    {
     "name": "stdout",
     "output_type": "stream",
     "text": [
      "0 : None\n",
      "1 : None\n",
      "2 : None\n",
      "3 : None\n",
      "4 : None\n",
      "5 : None\n",
      "6 : None\n"
     ]
    }
   ],
   "source": [
    "# Constructor \n",
    "\n",
    "class HashTable:\n",
    "    def __init__(self,size=7):\n",
    "        self.data_map = [None] * size\n",
    "\n",
    "    def _hash(self,key):\n",
    "        my_hash=0\n",
    "        for letter in key:\n",
    "            my_hash = (my_hash + ord(letter) * 23) % len(self.data_map)  # ord getsd asc value of that letter, 23 is a prime number and so used, similar to the size 7\n",
    "        return my_hash\n",
    "    \n",
    "    def print_table(self):\n",
    "        for i,val in enumerate(self.data_map):\n",
    "            print (i , \":\", val)\n",
    "\n",
    "my_hash_table = HashTable()\n",
    "my_hash_table.print_table()"
   ]
  },
  {
   "cell_type": "code",
   "execution_count": null,
   "id": "548ffdc6",
   "metadata": {},
   "outputs": [],
   "source": [
    "# set to setvalue in our table\n",
    "\n",
    "def set_item(self,key,value):\n",
    "    index = self.__hash(key)\n",
    "    if self.data_map[index] == None:\n",
    "        self.data_map[index] = [] #creating an emty list at that index, but first we check if it is already created or not \n",
    "    self.data_map[index].append([key],[value])   # [\"bolts\" : 1400]\n"
   ]
  },
  {
   "cell_type": "code",
   "execution_count": null,
   "id": "273f7f30",
   "metadata": {},
   "outputs": [],
   "source": [
    "# get to get value from our table \n",
    "\n",
    "def get_item(self,key):\n",
    "    index = self.__hash(key)\n",
    "    if self.data_map is not None:\n",
    "        for i in range(len(self.data_map[index])):\n",
    "            if self.data_map[index][i][0] == key:\n",
    "                return self.data_map[index][i][1]\n",
    "    return None"
   ]
  },
  {
   "cell_type": "code",
   "execution_count": null,
   "id": "83ba2ca9",
   "metadata": {},
   "outputs": [],
   "source": [
    "# now we learn how to use keys, return all in that key as output\n",
    "\n",
    "def keys(self):\n",
    "    all_keys = []\n",
    "    for i in range(len(self.data_map)):\n",
    "        if self.data_map[i] is not None:\n",
    "            for j in range(len(self.data_map[i])):\n",
    "                all_keys.append(self.data_map[i][j][0])\n",
    "    return all_keys\n"
   ]
  },
  {
   "cell_type": "code",
   "execution_count": null,
   "id": "2a0cbb9c",
   "metadata": {},
   "outputs": [],
   "source": [
    "# now lets learn Big O \n",
    "\n",
    "# Hashing is O(1)\n",
    "\n",
    "# Setting an item is O(1)\n",
    "\n",
    "# Getting an item is O(1), assuming equal distribution in the table                        ***KEY LOOKUP is O(1) and ITEM LOOKUP is O(n) ***"
   ]
  },
  {
   "cell_type": "code",
   "execution_count": null,
   "id": "6eb35761",
   "metadata": {},
   "outputs": [],
   "source": [
    "# All HashTable code at once\n",
    "\n",
    "class HashTable:\n",
    "    def __init__(self,size=7):\n",
    "        self.data_map = [None] * size\n",
    "\n",
    "    def _hash(self,key):\n",
    "        my_hash=0\n",
    "        for letter in key:\n",
    "            my_hash = (my_hash + ord(letter) * 23) % len(self.data_map)  \n",
    "            # ord getsd asc value of that letter, 23 is a prime number and so used, similar to the size 7\n",
    "        return my_hash\n",
    "    \n",
    "    def print_table(self):\n",
    "        for i,val in enumerate(self.data_map):\n",
    "            print (i , \":\", val)\n",
    "\n",
    "    def set_item(self,key,value):\n",
    "        index = self.__hash(key)\n",
    "        if self.data_map[index] == None:\n",
    "            self.data_map[index] = [] \n",
    "            #creating an emty list at that index, but first we check if it is already created or not \n",
    "        self.data_map[index].append([key],[value])   \n",
    "        # [\"bolts\" : 1400]\n",
    "\n",
    "    def get_item(self,key):\n",
    "        index = self.__hash(key)\n",
    "        if self.data_map is not None:\n",
    "            for i in range(len(self.data_map[index])):\n",
    "                if self.data_map[index][i][0] == key:\n",
    "                    return self.data_map[index][i][1]\n",
    "        return None\n",
    "\n",
    "    def keys(self):\n",
    "        all_keys = []\n",
    "        for i in range(len(self.data_map)):\n",
    "            if self.data_map[i] is not None:\n",
    "                for j in range(len(self.data_map[i])):\n",
    "                    all_keys.append(self.data_map[i][j][0])\n",
    "        return all_keys\n",
    "\n",
    "my_hash_table = HashTable()\n",
    "my_hash_table.print_table()"
   ]
  },
  {
   "cell_type": "code",
   "execution_count": null,
   "id": "43c777ee",
   "metadata": {},
   "outputs": [],
   "source": [
    "# Very common interview question:\n",
    "\n",
    "# Finding a common element in two lists  \n",
    "\n",
    "# Mtd1 : 2 forloops   O(n*n)\n",
    "\n",
    "def item_in_common(list1,list2):\n",
    "    for i in list1:\n",
    "        for j in list2:\n",
    "            if i==j:\n",
    "                return True\n",
    "    return False\n",
    "\n",
    "# Mtd2 :   we use dictionary for it , first we fut list1 ina dictionary i.e. O(n), then we search list2 in list1 dictionary i.e O(1), therfore the timecomplexity is O(n)\n",
    "\n",
    "def item_in_common(list1,list2):\n",
    "    my_dict = {}\n",
    "    for i in list1:\n",
    "        my_dict[i] = True\n",
    "    for j in list2:\n",
    "        if j in my_dict:\n",
    "            return True\n",
    "    return False\n"
   ]
  }
 ],
 "metadata": {
  "kernelspec": {
   "display_name": "Python 3",
   "language": "python",
   "name": "python3"
  },
  "language_info": {
   "codemirror_mode": {
    "name": "ipython",
    "version": 3
   },
   "file_extension": ".py",
   "mimetype": "text/x-python",
   "name": "python",
   "nbconvert_exporter": "python",
   "pygments_lexer": "ipython3",
   "version": "3.13.3"
  }
 },
 "nbformat": 4,
 "nbformat_minor": 5
}
