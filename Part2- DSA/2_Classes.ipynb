{
 "cells": [
  {
   "cell_type": "code",
   "execution_count": 4,
   "id": "38a32979",
   "metadata": {},
   "outputs": [
    {
     "name": "stdout",
     "output_type": "stream",
     "text": [
      "Cookie one is green\n",
      "Cookie two is blue\n",
      "\n",
      "Cookie one is now yellow\n",
      "Cookie two is still blue\n"
     ]
    }
   ],
   "source": [
    "class Cookie:\n",
    "    def __init__(self,color):\n",
    "        self.color = color\n",
    "\n",
    "    def get_color(self):\n",
    "        return self.color\n",
    "\n",
    "    def set_color(self,color):\n",
    "        self.color = color\n",
    "\n",
    "cookie_one = Cookie(\"green\") \n",
    "cookie_two = Cookie(\"blue\")\n",
    "\n",
    "print(\"Cookie one is\", cookie_one.get_color())\n",
    "print(\"Cookie two is\", cookie_two.get_color())\n",
    "\n",
    "cookie_one.set_color(\"yellow\")\n",
    "\n",
    "print(\"\\nCookie one is now\", cookie_one.get_color())\n",
    "print(\"Cookie two is still\", cookie_two.get_color())\n"
   ]
  }
 ],
 "metadata": {
  "kernelspec": {
   "display_name": "Python 3",
   "language": "python",
   "name": "python3"
  },
  "language_info": {
   "codemirror_mode": {
    "name": "ipython",
    "version": 3
   },
   "file_extension": ".py",
   "mimetype": "text/x-python",
   "name": "python",
   "nbconvert_exporter": "python",
   "pygments_lexer": "ipython3",
   "version": "3.13.3"
  }
 },
 "nbformat": 4,
 "nbformat_minor": 5
}
