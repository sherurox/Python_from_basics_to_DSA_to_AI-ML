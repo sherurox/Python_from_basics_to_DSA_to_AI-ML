{
 "cells": [
  {
   "cell_type": "code",
   "execution_count": null,
   "id": "c9a96eb4",
   "metadata": {},
   "outputs": [],
   "source": [
    "# Recursion is a function that calls itself until it doesn't\n",
    "'''\n",
    "Pseudo code :\n",
    "\n",
    "def open_gift_box():\n",
    "    if ball:\n",
    "        return ball\n",
    "    open_gift_box()\n",
    "\n",
    "'''"
   ]
  },
  {
   "cell_type": "code",
   "execution_count": 2,
   "id": "a66583c4",
   "metadata": {},
   "outputs": [
    {
     "name": "stdout",
     "output_type": "stream",
     "text": [
      "Three\n",
      "Two\n",
      "One\n"
     ]
    }
   ],
   "source": [
    "# Call stack:\n",
    "\n",
    "def funcThree():\n",
    "    print(\"Three\")\n",
    "\n",
    "def funcTwo():\n",
    "    funcThree()\n",
    "    print(\"Two\")\n",
    "\n",
    "def funcOne():\n",
    "    funcTwo()\n",
    "    print(\"One\")\n",
    "\n",
    "funcOne()"
   ]
  },
  {
   "cell_type": "code",
   "execution_count": 3,
   "id": "345f4f7a",
   "metadata": {},
   "outputs": [
    {
     "data": {
      "text/plain": [
       "120"
      ]
     },
     "execution_count": 3,
     "metadata": {},
     "output_type": "execute_result"
    }
   ],
   "source": [
    "# Recursion to solve Factorial \n",
    "\n",
    "def factorial(n):\n",
    "    if n==1:\n",
    "        return 1\n",
    "    return n* factorial(n-1)\n",
    "\n",
    "factorial(5)"
   ]
  }
 ],
 "metadata": {
  "kernelspec": {
   "display_name": "Python 3",
   "language": "python",
   "name": "python3"
  },
  "language_info": {
   "codemirror_mode": {
    "name": "ipython",
    "version": 3
   },
   "file_extension": ".py",
   "mimetype": "text/x-python",
   "name": "python",
   "nbconvert_exporter": "python",
   "pygments_lexer": "ipython3",
   "version": "3.13.3"
  }
 },
 "nbformat": 4,
 "nbformat_minor": 5
}
