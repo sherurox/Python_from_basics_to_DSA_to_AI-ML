{
 "cells": [
  {
   "cell_type": "code",
   "execution_count": null,
   "id": "c593ff8c",
   "metadata": {},
   "outputs": [],
   "source": [
    "# Merge Sort is Divide and Conquer\n",
    "\n",
    "def merge(list1,list2): # helper function two join 2 sorted lists\n",
    "    combined = []\n",
    "    i = 0 \n",
    "    j=0 \n",
    "    while i < len(list1) and j< len(list2):\n",
    "        if list1[i]<list2[j]:\n",
    "            combined.append(list1[i])\n",
    "            i += 1 \n",
    "        else:\n",
    "            combined.append(list2[j])\n",
    "            j += 1 \n",
    "\n",
    "    while i<len(list1):\n",
    "        combined.append(list1[i])\n",
    "        i += 1 \n",
    "\n",
    "    while j<len(list2):\n",
    "        combined.append(list2[j])\n",
    "        j += 1 \n",
    "\n",
    "    return combined "
   ]
  },
  {
   "cell_type": "code",
   "execution_count": null,
   "id": "b4e06672",
   "metadata": {},
   "outputs": [],
   "source": [
    "# Remember rules of Recursion? Now we apply it here for breaking into 2 things\n",
    "\n",
    "def merge_sort(my_list): # O(n log n)\n",
    "    if len(my_list) == 1:\n",
    "        return my_list\n",
    "    mid_index = int(len(my_list)/2)\n",
    "    left = merge_sort(my_list[:mid_index])#upto and not including\n",
    "    right = merge_sort(my_list[mid_index:])# from including till the end\n",
    "    \n",
    "    return merge(left, right)"
   ]
  },
  {
   "cell_type": "code",
   "execution_count": null,
   "id": "fc85b282",
   "metadata": {},
   "outputs": [],
   "source": [
    "# full code \n",
    "\n",
    "def merge(list1,list2): # helper function two join 2 sorted lists # T O(n+m)  S O(n+m)\n",
    "    combined = []\n",
    "    i = 0 \n",
    "    j=0 \n",
    "    while i < len(list1) and j< len(list2):\n",
    "        if list1[i]<list2[j]:\n",
    "            combined.append(list1[i])\n",
    "            i += 1 \n",
    "        else:\n",
    "            combined.append(list2[j])\n",
    "            j += 1 \n",
    "\n",
    "    while i<len(list1):\n",
    "        combined.append(list1[i])\n",
    "        i += 1 \n",
    "\n",
    "    while j<len(list2):\n",
    "        combined.append(list2[j])\n",
    "        j += 1 \n",
    "\n",
    "    return combined \n",
    "\n",
    "def merge_sort(my_list): # T O(n log n) S O(n)\n",
    "    if len(my_list) == 1:\n",
    "        return my_list\n",
    "    mid_index = int(len(my_list)/2)\n",
    "    left = merge_sort(my_list[:mid_index])#upto and not including\n",
    "    right = merge_sort(my_list[mid_index:])# from including till the end\n",
    "    \n",
    "    return merge(left, right)"
   ]
  },
  {
   "cell_type": "code",
   "execution_count": null,
   "id": "97a30bed",
   "metadata": {},
   "outputs": [],
   "source": [
    "# Merge sort of Linked List        # T O(n+m)  S O(1)\n",
    "    def merge(self, other_list):\n",
    "        other_head = other_list.head\n",
    "        dummy = Node(0)\n",
    "        current = dummy\n",
    " \n",
    "        while self.head is not None and other_head is not None:\n",
    "            if self.head.value < other_head.value:\n",
    "                current.next = self.head\n",
    "                self.head = self.head.next\n",
    "            else:\n",
    "                current.next = other_head\n",
    "                other_head = other_head.next\n",
    "            current = current.next\n",
    " \n",
    "        if self.head is not None:\n",
    "            current.next = self.head\n",
    "        else:\n",
    "            current.next = other_head\n",
    "            self.tail = other_list.tail\n",
    " \n",
    "        self.head = dummy.next\n",
    "        self.length += other_list.length"
   ]
  }
 ],
 "metadata": {
  "kernelspec": {
   "display_name": "Python 3",
   "language": "python",
   "name": "python3"
  },
  "language_info": {
   "codemirror_mode": {
    "name": "ipython",
    "version": 3
   },
   "file_extension": ".py",
   "mimetype": "text/x-python",
   "name": "python",
   "nbconvert_exporter": "python",
   "pygments_lexer": "ipython3",
   "version": "3.13.3"
  }
 },
 "nbformat": 4,
 "nbformat_minor": 5
}
