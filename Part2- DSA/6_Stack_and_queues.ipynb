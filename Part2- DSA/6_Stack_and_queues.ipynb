{
 "cells": [
  {
   "cell_type": "code",
   "execution_count": null,
   "id": "5f96e79b",
   "metadata": {},
   "outputs": [
    {
     "name": "stdout",
     "output_type": "stream",
     "text": [
      "4\n"
     ]
    }
   ],
   "source": [
    "# Stacks -> LIFO , we use Linked list\n",
    "\n",
    "class Node:\n",
    "    def __init__(self,value):\n",
    "        self.value=value\n",
    "        self.next=None\n",
    "\n",
    "class Stack:\n",
    "    def __init__(self,value):\n",
    "        new_node=Node(value)\n",
    "        self.top=new_node\n",
    "        self.height=1\n",
    "\n",
    "    def print(self):\n",
    "        temp=self.top\n",
    "        while temp:\n",
    "            print(temp.value)\n",
    "            temp=temp.next\n",
    "\n",
    "my = Stack(4)\n",
    "my.print()"
   ]
  },
  {
   "cell_type": "code",
   "execution_count": null,
   "id": "4e71ab38",
   "metadata": {},
   "outputs": [],
   "source": [
    "# Now we learn how to push in our stack, similar to prepend in Linked List\n",
    "\n",
    "def push(self,value):\n",
    "    new_node=Node(value)\n",
    "    if self.height == 0:\n",
    "        self.top=new_node\n",
    "    else:\n",
    "        new_node.next=self.top\n",
    "        self.top=new_node\n",
    "    self.height += 1 "
   ]
  },
  {
   "cell_type": "code",
   "execution_count": null,
   "id": "0e3bd268",
   "metadata": {},
   "outputs": [],
   "source": [
    "# Now we learn how to pop in our stack , similar to popfirst in Linked list \n",
    "\n",
    "def pop(self):\n",
    "    if self.height == 0:\n",
    "        return None \n",
    "    else:\n",
    "        temp = self.top\n",
    "        self.top = self.top.next\n",
    "        temp.next=None\n",
    "    return temp  "
   ]
  },
  {
   "cell_type": "code",
   "execution_count": null,
   "id": "54898727",
   "metadata": {},
   "outputs": [
    {
     "name": "stdout",
     "output_type": "stream",
     "text": [
      "3\n",
      "4\n"
     ]
    }
   ],
   "source": [
    "# Everything on Stack (initialization , push , pop )\n",
    "\n",
    "# Stacks -> LIFO , we use Linked list\n",
    "\n",
    "class Node:\n",
    "    def __init__(self,value):\n",
    "        self.value=value\n",
    "        self.next=None\n",
    "\n",
    "class Stack:\n",
    "    def __init__(self,value):\n",
    "        new_node=Node(value)\n",
    "        self.top=new_node\n",
    "        self.height=1\n",
    "\n",
    "    def print(self):\n",
    "        temp=self.top\n",
    "        while temp:\n",
    "            print(temp.value)\n",
    "            temp=temp.next\n",
    "    \n",
    "    def push(self,value):\n",
    "        new_node=Node(value)\n",
    "        if self.height == 0:\n",
    "            self.top=new_node\n",
    "        else:\n",
    "            new_node.next=self.top\n",
    "            self.top=new_node\n",
    "        self.height += 1 \n",
    "\n",
    "    def pop(self):\n",
    "        if self.height == 0:\n",
    "            return None \n",
    "        else:\n",
    "            temp = self.top\n",
    "            self.top = self.top.next\n",
    "            temp.next=None\n",
    "            self.height -= 1\n",
    "        return temp  \n",
    "    \n",
    "\n",
    "my = Stack(4)\n",
    "\n",
    "my.push(3)\n",
    "my.push(2)\n",
    "my.pop()\n",
    "my.print()\n",
    "\n"
   ]
  },
  {
   "cell_type": "code",
   "execution_count": null,
   "id": "0bfd9d17",
   "metadata": {},
   "outputs": [],
   "source": [
    "# Queue -> FIFO , we use Linked list with first and last \n",
    "\n",
    "class Node:\n",
    "    def __init__(self,value):\n",
    "        self.value=value\n",
    "        self.next= None \n",
    "\n",
    "class Queue:\n",
    "    def __init__(self,value):\n",
    "        new_node = Node(value)\n",
    "        self.first =new_node\n",
    "        self.last = new_node\n",
    "        self.length = 1 "
   ]
  },
  {
   "cell_type": "code",
   "execution_count": null,
   "id": "a4d7c9ff",
   "metadata": {},
   "outputs": [],
   "source": [
    "# Adding to a queue is called en-queueing , i.e adding a node to last , i.e append in linked list\n",
    "\n",
    "def enqueue(self,value):\n",
    "    new_node = Node(value)\n",
    "    if self.length == 0:\n",
    "        self.first = new_node\n",
    "        self.last = new_node\n",
    "    else:\n",
    "        self.last.next= new_node\n",
    "        self.last=new_node \n",
    "    self.length += 1 \n",
    "    return True \n"
   ]
  },
  {
   "cell_type": "code",
   "execution_count": null,
   "id": "3c371f2a",
   "metadata": {},
   "outputs": [],
   "source": [
    "# Removing from a queue is called de-queueing, i.e. removing the first node , i.e. similar to popfirst in linked List \n",
    "\n",
    "def dequeue(self):\n",
    "    if self.length == 0:\n",
    "        return None\n",
    "    temp = self.first\n",
    "    if self.length == 1:\n",
    "        self.first = None \n",
    "        self.last = None \n",
    "    else:\n",
    "        self.first=self.first.next\n",
    "        temp.next=None\n",
    "    self.length -=  1 \n",
    "    return temp "
   ]
  },
  {
   "cell_type": "code",
   "execution_count": null,
   "id": "9ab444dc",
   "metadata": {},
   "outputs": [],
   "source": [
    "# Everything on Queue (initialization , enqueueing , dequeuing )\n",
    "\n",
    "class Node:\n",
    "    def __init__(self,value):\n",
    "        self.value=value\n",
    "        self.next= None \n",
    "\n",
    "class Queue:\n",
    "    def __init__(self,value):\n",
    "        new_node = Node(value)\n",
    "        self.first =new_node\n",
    "        self.last = new_node\n",
    "        self.length = 1 \n",
    "\n",
    "    def enqueue(self,value):\n",
    "        new_node = Node(value)\n",
    "        if self.length == 0:\n",
    "            self.first = new_node\n",
    "            self.last = new_node\n",
    "        else:\n",
    "            self.last.next= new_node\n",
    "            self.last=new_node \n",
    "        self.length += 1 \n",
    "        return True \n",
    "    \n",
    "    def dequeue(self):\n",
    "        if self.length == 0:\n",
    "            return None\n",
    "        temp = self.first\n",
    "        if self.length == 1:\n",
    "            self.first = None \n",
    "            self.last = None \n",
    "        else:\n",
    "            self.first=self.first.next\n",
    "            temp.next=None\n",
    "        self.length -= 1 \n",
    "        return temp \n",
    "    "
   ]
  }
 ],
 "metadata": {
  "kernelspec": {
   "display_name": "Python 3",
   "language": "python",
   "name": "python3"
  },
  "language_info": {
   "codemirror_mode": {
    "name": "ipython",
    "version": 3
   },
   "file_extension": ".py",
   "mimetype": "text/x-python",
   "name": "python",
   "nbconvert_exporter": "python",
   "pygments_lexer": "ipython3",
   "version": "3.13.3"
  }
 },
 "nbformat": 4,
 "nbformat_minor": 5
}
