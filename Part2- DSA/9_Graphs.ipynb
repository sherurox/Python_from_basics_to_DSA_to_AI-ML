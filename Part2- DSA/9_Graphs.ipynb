{
 "cells": [
  {
   "cell_type": "code",
   "execution_count": null,
   "id": "86650275",
   "metadata": {},
   "outputs": [],
   "source": [
    "# Vertices connected by edges are called Graphs, those edges may be wieghted, they be directional or bi directional, a Linked list is a form of a graph"
   ]
  },
  {
   "cell_type": "code",
   "execution_count": null,
   "id": "866183b0",
   "metadata": {},
   "outputs": [],
   "source": [
    "'''\n",
    "for graph A-B-C, simple bidirectional , using adjacency list, can be written as:\n",
    "\n",
    "{\n",
    "'A': ['B'],\n",
    "'B': ['A','C'],\n",
    "'C': ['B']\n",
    "}\n",
    "space complexity : O(V + E)\n",
    "insert complexity: O(1) \n",
    "adding edge: O(1)\n",
    "removing edge: O(E)\n",
    "removing vertice : O(V + E)\n",
    "\n",
    "\n",
    "adjacency matrix:\n",
    "\n",
    "  A B C\n",
    "A 0 1 0 \n",
    "B 1 0 1 \n",
    "C 0 1 0\n",
    "\n",
    "space complexity : O(n*n)\n",
    "insert complexity: O(n*n)\n",
    "adding edge: O(1)\n",
    "removing edge: O(1)\n",
    "removing vertice : O(n*n)\n",
    "'''"
   ]
  },
  {
   "cell_type": "code",
   "execution_count": null,
   "id": "ac7258a6",
   "metadata": {},
   "outputs": [],
   "source": [
    "# adding a vertex O(1)\n",
    "\n",
    "class Graph:\n",
    "    def __init__(self):\n",
    "        self.adj_list = {}\n",
    "\n",
    "    def add_vertex(self,vertex):\n",
    "        if vertex not in self.adj_list:\n",
    "            self.adj_list[vertex]=[]\n",
    "            return True\n",
    "        return False \n",
    "    \n",
    "    def print(self):\n",
    "        for vertex in self.adj_list:\n",
    "            print(vertex, ':', self.adj_list[vertex])"
   ]
  },
  {
   "cell_type": "code",
   "execution_count": null,
   "id": "589e02ba",
   "metadata": {},
   "outputs": [],
   "source": [
    "# adding an edge O(1) \n",
    "\n",
    "def add_edge(self,v1,v2):\n",
    "    if v1 in self.adj_list.keys() and v2 in self.adj_list.keys():  # to check first if both the vertex exist\n",
    "        self.adj_list[v1].append(v2)\n",
    "        self.adj_list[v2].append(v1) # 1 in 2 and 2 in 1, assuming bi directional\n",
    "        return True\n",
    "    return False "
   ]
  },
  {
   "cell_type": "code",
   "execution_count": null,
   "id": "5dfe977e",
   "metadata": {},
   "outputs": [],
   "source": [
    "# removing an edge O(E)\n",
    "\n",
    "def remove_edge(self,v1,v2):\n",
    "    if v1 in self.adj_list.keys() and v2 in self.adj_list.keys():\n",
    "        self.adj_list[v1].remove(v2)\n",
    "        self.adj_list[v2].remove(v1)\n",
    "        return True\n",
    "    return False"
   ]
  },
  {
   "cell_type": "code",
   "execution_count": null,
   "id": "a3832437",
   "metadata": {},
   "outputs": [],
   "source": [
    "# removing a vertex O(V + E), a trick in bidirectional graphs is to iterate through the targeted vertice's edges, remove the edges only from which it is connceted, and then in the end remove the vertice\n",
    "\n",
    "\n",
    "def remove_vertex(self,vertex):\n",
    "    if vertex in self.adj_list.keys():\n",
    "        for other_vertex in self.adj_list[vertex]:\n",
    "            self.adj_list[other_vertex].remove(vertex) # thee trick, looping through to remove the connections\n",
    "        del self.adj_list[vertex] # and finally removing the targeted vertex\n",
    "        return True \n",
    "    return False"
   ]
  },
  {
   "cell_type": "code",
   "execution_count": null,
   "id": "fdde35d8",
   "metadata": {},
   "outputs": [],
   "source": [
    "# Full Code \n",
    "class Graph:\n",
    "    def __init__(self):\n",
    "        self.adj_list = {}\n",
    "\n",
    "    # adding a vertex O(1)\n",
    "    def add_vertex(self,vertex):\n",
    "        if vertex not in self.adj_list:\n",
    "            self.adj_list[vertex]=[]\n",
    "            return True\n",
    "        return False\n",
    "    # printing graph O(1)\n",
    "    def print(self):\n",
    "        for vertex in self.adj_list:\n",
    "            print(vertex, ':', self.adj_list[vertex])\n",
    "\n",
    "    # adding an edge O(1) \n",
    "    def add_edge(self,v1,v2):\n",
    "        if v1 in self.adj_list.keys() and v2 in self.adj_list.keys():  # to check first if both the vertex exist\n",
    "            self.adj_list[v1].append(v2)\n",
    "            self.adj_list[v2].append(v1) # 1 in 2 and 2 in 1, assuming bi directional\n",
    "            return True\n",
    "        return False \n",
    "    \n",
    "    # removing an edge O(E)\n",
    "    def remove_edge(self,v1,v2):\n",
    "        if v1 in self.adj_list.keys() and v2 in self.adj_list.keys():\n",
    "            self.adj_list[v1].remove(v2)\n",
    "            self.adj_list[v2].remove(v1)\n",
    "            return True\n",
    "        return False\n",
    "    \n",
    "    # removing a vertex O(V + E), a trick in bidirectional graphs is to iterate through the targeted vertice's edges, \n",
    "    # remove the edges only from which it is connceted, and then in the end remove the vertice\n",
    "    def remove_vertex(self,vertex):\n",
    "        if vertex in self.adj_list.keys():\n",
    "            for other_vertex in self.adj_list[vertex]:\n",
    "                self.adj_list[other_vertex].remove(vertex) # thee trick, looping through to remove the connections\n",
    "            del self.adj_list[vertex] # and finally removing the targeted vertex\n",
    "            return True \n",
    "        return False\n",
    "    "
   ]
  }
 ],
 "metadata": {
  "language_info": {
   "name": "python"
  }
 },
 "nbformat": 4,
 "nbformat_minor": 5
}
