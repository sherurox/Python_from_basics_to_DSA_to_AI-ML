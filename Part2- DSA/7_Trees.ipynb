{
 "cells": [
  {
   "cell_type": "code",
   "execution_count": null,
   "id": "bf8d5b3f",
   "metadata": {},
   "outputs": [],
   "source": [
    "#This too uses a Linked List, but will have two pointing directions, one left and the other right(for a binary tree), additional branches as a pointer can be addded"
   ]
  },
  {
   "cell_type": "code",
   "execution_count": null,
   "id": "d3363d8b",
   "metadata": {},
   "outputs": [],
   "source": [
    "# Full tree, where a node either points to two child nodes or none\n",
    "\n",
    "# Perfect Full Tree, where all the nodes (except the last level) have 2 child nodes\n",
    "\n",
    "# Complete Tree, where all the nodes are filled left to right\n",
    "\n",
    "# In a tree , a node can only have one parent"
   ]
  },
  {
   "cell_type": "code",
   "execution_count": null,
   "id": "7f4e6c6c",
   "metadata": {},
   "outputs": [],
   "source": [
    "# In a (BST) Binary Serach tree if the leaf valuue is greater than the parent it will go on right, vice versa on left\n",
    "\n",
    "# For Lookup(), Insert(), Remove() node in a BST is O(log n)  \"Divide and Conqure\""
   ]
  },
  {
   "cell_type": "code",
   "execution_count": null,
   "id": "ef70e787",
   "metadata": {},
   "outputs": [],
   "source": [
    "# Comparison btw Linked List and Binary Tree \n",
    "\n",
    "# Linked List is better in insert\n",
    "\n",
    "# Tree is better in Lookup, remove\n"
   ]
  },
  {
   "cell_type": "code",
   "execution_count": null,
   "id": "d1b35932",
   "metadata": {},
   "outputs": [],
   "source": [
    "# Initialization of a BST\n",
    "\n",
    "class Node:\n",
    "    def __init__(self,value):\n",
    "        self.value=value\n",
    "        self.left=None\n",
    "        self.right =None\n",
    "\n",
    "class BST:\n",
    "    def __init__(self):\n",
    "        self.root = None\n"
   ]
  },
  {
   "cell_type": "code",
   "execution_count": null,
   "id": "b8bec3aa",
   "metadata": {},
   "outputs": [],
   "source": [
    "# Inserting into a BST\n",
    "\n",
    "def insert(self,value):\n",
    "    new_node= Node(value)\n",
    "    if self.root is None:\n",
    "        self.root = new_node\n",
    "        return True \n",
    "    temp = self.root\n",
    "    while (True):\n",
    "        if new_node.value == temp.value:\n",
    "            return False\n",
    "        if new_node.value < temp.value:\n",
    "            if temp.left is None:\n",
    "                temp.left = new_node\n",
    "                return True\n",
    "            temp = temp.left\n",
    "        else:\n",
    "            if temp.right is None:\n",
    "                temp.right = new_node\n",
    "                return True\n",
    "            temp = temp.right \n"
   ]
  },
  {
   "cell_type": "code",
   "execution_count": null,
   "id": "2addbc23",
   "metadata": {},
   "outputs": [],
   "source": [
    "# To check if the value is present in the tree\n",
    "\n",
    "def contains(self,value):\n",
    "    if self.root is None:\n",
    "        return False \n",
    "    temp = self.root\n",
    "    while temp:\n",
    "        if value< temp.value:\n",
    "            temp = temp.left\n",
    "        elif value > temp.value:\n",
    "            temp = temp.right\n",
    "        else:\n",
    "            return True\n",
    "    return False "
   ]
  }
 ],
 "metadata": {
  "kernelspec": {
   "display_name": "Python 3",
   "language": "python",
   "name": "python3"
  },
  "language_info": {
   "codemirror_mode": {
    "name": "ipython",
    "version": 3
   },
   "file_extension": ".py",
   "mimetype": "text/x-python",
   "name": "python",
   "nbconvert_exporter": "python",
   "pygments_lexer": "ipython3",
   "version": "3.13.3"
  }
 },
 "nbformat": 4,
 "nbformat_minor": 5
}
