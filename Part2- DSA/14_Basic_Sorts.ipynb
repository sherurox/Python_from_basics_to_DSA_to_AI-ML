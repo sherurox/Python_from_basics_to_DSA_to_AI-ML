{
 "cells": [
  {
   "cell_type": "code",
   "execution_count": null,
   "id": "b1049010",
   "metadata": {},
   "outputs": [
    {
     "name": "stdout",
     "output_type": "stream",
     "text": [
      "hi\n"
     ]
    }
   ],
   "source": [
    "'''\n",
    "Types of basic Sort Algorithms:\n",
    "\n",
    "1. Bubble Sort\n",
    "2. Selection Sort\n",
    "3. Insertion Sort\n",
    "\n",
    "'''"
   ]
  },
  {
   "cell_type": "code",
   "execution_count": 7,
   "id": "6009728b",
   "metadata": {},
   "outputs": [],
   "source": [
    "# Bubble sort, compare and exchange, O(n^2)\n",
    "\n",
    "def bubble_sort(my_list):\n",
    "    for i in range(len(my_list)-1, 0,-1):\n",
    "        for j in range(i):\n",
    "            if my_list[j]>my_list[j+1]:\n",
    "                my_list[j], my_list[j+1] = my_list[j+1] , my_list[j]\n",
    "    return my_list"
   ]
  },
  {
   "cell_type": "code",
   "execution_count": 6,
   "id": "777d7be5",
   "metadata": {},
   "outputs": [],
   "source": [
    "# Selection sort, switch min indedx , O(n^2) \n",
    "\n",
    "def selection_sort(my_list):\n",
    "    for i in range(len(my_list)-1):\n",
    "        min_index = i \n",
    "        for j in range(i+1,len(my_list)):\n",
    "            if my_list[j] < my_list[min_index]:\n",
    "                min_index = j \n",
    "        if i != min_index:\n",
    "            my_list[i], my_list[min_index] = my_list[min_index], my_list[i]\n",
    "    return my_list"
   ]
  },
  {
   "cell_type": "code",
   "execution_count": 5,
   "id": "138e2e9e",
   "metadata": {},
   "outputs": [],
   "source": [
    "# Insertion sort, compare later part to first, O(n^2) \n",
    "\n",
    "def insertion_sort(my_list):\n",
    "    for i in range(1,len(my_list)):\n",
    "        temp = my_list[i]\n",
    "        j = i-1 \n",
    "        while temp < my_list[j] and j>-1:\n",
    "            my_list[j+1] = my_list[j]\n",
    "            my_list[j] = temp \n",
    "            j -= 1 \n",
    "    return my_list"
   ]
  },
  {
   "cell_type": "code",
   "execution_count": null,
   "id": "71524eb5",
   "metadata": {},
   "outputs": [],
   "source": [
    "# Full Code\n",
    "\n",
    "# Bubble sort, compare and bubble down,  # T O(n^2)  S O(1)\n",
    "def bubble_sort(my_list):\n",
    "    for i in range(len(my_list)-1, 0,-1):\n",
    "        for j in range(i):\n",
    "            if my_list[j]>my_list[j+1]:\n",
    "                my_list[j], my_list[j+1] = my_list[j+1] , my_list[j]\n",
    "    return my_list\n",
    "\n",
    "# Selection sort, switch min indedx ,   # T O(n^2)  S O(1)\n",
    "def selection_sort(my_list):\n",
    "    for i in range(len(my_list)-1):\n",
    "        min_index = i \n",
    "        for j in range(i+1,len(my_list)):\n",
    "            if my_list[j] < my_list[min_index]:\n",
    "                min_index = j \n",
    "        if i != min_index:\n",
    "            my_list[i], my_list[min_index] = my_list[min_index], my_list[i]\n",
    "    return my_list\n",
    "\n",
    "# Insertion sort, compare later part to first,  # T O(n^2)  S O(1)\n",
    "def insertion_sort(my_list):\n",
    "    for i in range(1,len(my_list)):\n",
    "        temp = my_list[i]\n",
    "        j = i-1 \n",
    "        while temp < my_list[j] and j>-1:\n",
    "            my_list[j+1] = my_list[j]\n",
    "            my_list[j] = temp \n",
    "            j -= 1 \n",
    "    return my_list"
   ]
  },
  {
   "cell_type": "code",
   "execution_count": null,
   "id": "8cf30dba",
   "metadata": {},
   "outputs": [],
   "source": [
    "# Leetcode Practice Q \n",
    "\n",
    "# Bubble Sort of Linked List\n",
    "    def bubble_sort(self):\n",
    "        if self.length < 2:\n",
    "            return\n",
    "        \n",
    "        sorted_until = None\n",
    "        \n",
    "        while sorted_until != self.head.next:\n",
    "            current = self.head\n",
    "            while current.next != sorted_until:\n",
    "                next_node = current.next\n",
    "                if current.value > next_node.value:\n",
    "                    current.value, next_node.value = next_node.value, current.value\n",
    "                current = current.next\n",
    "            sorted_until = current\n",
    "\n",
    "# Selection Sort of Linked List\n",
    "    def selection_sort(self):\n",
    "        if self.length < 2:\n",
    "            return\n",
    "        current = self.head\n",
    "        while current.next is not None:\n",
    "            smallest = current\n",
    "            inner_current = current.next\n",
    "            while inner_current is not None:\n",
    "                if inner_current.value < smallest.value:\n",
    "                    smallest = inner_current\n",
    "                inner_current = inner_current.next\n",
    "            if smallest != current:\n",
    "                current.value, smallest.value = smallest.value, current.value        \n",
    "            current = current.next\n",
    "\n",
    "# Insertion Sort of Linked List\n",
    "    def insertion_sort(self):\n",
    "        if self.length < 2:\n",
    "            return\n",
    "        sorted_list_head = self.head\n",
    "        unsorted_list_head = self.head.next\n",
    "        sorted_list_head.next = None\n",
    "        while unsorted_list_head is not None:\n",
    "            current = unsorted_list_head\n",
    "            unsorted_list_head = unsorted_list_head.next\n",
    "            \n",
    "            if current.value < sorted_list_head.value:\n",
    "                current.next = sorted_list_head\n",
    "                sorted_list_head = current\n",
    "            else:\n",
    "                search_pointer = sorted_list_head\n",
    "                while search_pointer.next is not None and current.value > search_pointer.next.value:\n",
    "                    search_pointer = search_pointer.next\n",
    "                current.next = search_pointer.next\n",
    "                search_pointer.next = current\n",
    "        self.head = sorted_list_head\n",
    "        temp = self.head\n",
    "        while temp.next is not None:\n",
    "            temp = temp.next\n",
    "        self.tail = temp"
   ]
  }
 ],
 "metadata": {
  "kernelspec": {
   "display_name": "Python 3",
   "language": "python",
   "name": "python3"
  },
  "language_info": {
   "codemirror_mode": {
    "name": "ipython",
    "version": 3
   },
   "file_extension": ".py",
   "mimetype": "text/x-python",
   "name": "python",
   "nbconvert_exporter": "python",
   "pygments_lexer": "ipython3",
   "version": "3.13.3"
  }
 },
 "nbformat": 4,
 "nbformat_minor": 5
}
