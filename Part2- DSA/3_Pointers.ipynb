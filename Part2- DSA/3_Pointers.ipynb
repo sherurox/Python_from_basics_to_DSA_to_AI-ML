{
 "cells": [
  {
   "cell_type": "code",
   "execution_count": null,
   "id": "bff6554e",
   "metadata": {},
   "outputs": [
    {
     "name": "stdout",
     "output_type": "stream",
     "text": [
      "Before num2 value is updated:\n",
      "num1= 11\n",
      "num2= 11\n",
      "\n",
      "num1 point to :  140714629735656\n",
      "\n",
      "num2 point to :  140714629735656\n",
      "After num2 value is updated:\n",
      "num1= 11\n",
      "num2= 22\n",
      "\n",
      "num1 point to :  140714629735656\n",
      "\n",
      "num2 point to :  140714629736008\n"
     ]
    }
   ],
   "source": [
    "# Here Integers seem immutable\n",
    "num1 = 11\n",
    "\n",
    "num2 = num1\n",
    "\n",
    "print(\"Before num2 value is updated:\")\n",
    "print(\"num1=\", num1)\n",
    "print(\"num2=\", num2)\n",
    "\n",
    "print(\"\\nnum1 point to : \", id(num1))\n",
    "print(\"\\nnum2 point to : \", id(num2))\n",
    "\n",
    "num2 = 22 \n",
    "\n",
    "print(\"After num2 value is updated:\")\n",
    "print(\"num1=\", num1)\n",
    "print(\"num2=\", num2)\n",
    "\n",
    "print(\"\\nnum1 point to : \", id(num1))\n",
    "print(\"\\nnum2 point to : \", id(num2))"
   ]
  },
  {
   "cell_type": "code",
   "execution_count": null,
   "id": "503d7ccc",
   "metadata": {},
   "outputs": [
    {
     "name": "stdout",
     "output_type": "stream",
     "text": [
      "Before num2 value is updated:\n",
      "num1= {'value': 11}\n",
      "num2= {'value': 11}\n",
      "\n",
      "num1 point to :  2221285772544\n",
      "\n",
      "num2 point to :  2221285772544\n",
      "After num2 value is updated:\n",
      "num1= {'value': 22}\n",
      "num2= {'value': 22}\n",
      "\n",
      "num1 point to :  2221285772544\n",
      "\n",
      "num2 point to :  2221285772544\n"
     ]
    }
   ],
   "source": [
    "# In case of Disctionaries, the values do change\n",
    "\n",
    "num1 = {\n",
    "    'value' : 11\n",
    "}\n",
    "\n",
    "num2 = num1\n",
    "\n",
    "print(\"Before num2 value is updated:\")\n",
    "print(\"num1=\", num1)\n",
    "print(\"num2=\", num2)\n",
    "\n",
    "print(\"\\nnum1 point to : \", id(num1))\n",
    "print(\"\\nnum2 point to : \", id(num2))\n",
    "\n",
    "num2['value'] = 22\n",
    "\n",
    "print(\"After num2 value is updated:\")\n",
    "print(\"num1=\", num1)\n",
    "print(\"num2=\", num2)\n",
    "\n",
    "print(\"\\nnum1 point to : \", id(num1))\n",
    "print(\"\\nnum2 point to : \", id(num2))"
   ]
  }
 ],
 "metadata": {
  "kernelspec": {
   "display_name": "Python 3",
   "language": "python",
   "name": "python3"
  },
  "language_info": {
   "codemirror_mode": {
    "name": "ipython",
    "version": 3
   },
   "file_extension": ".py",
   "mimetype": "text/x-python",
   "name": "python",
   "nbconvert_exporter": "python",
   "pygments_lexer": "ipython3",
   "version": "3.13.3"
  }
 },
 "nbformat": 4,
 "nbformat_minor": 5
}
