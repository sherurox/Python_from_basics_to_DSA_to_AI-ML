{
 "cells": [
  {
   "cell_type": "code",
   "execution_count": null,
   "id": "26646a10",
   "metadata": {},
   "outputs": [],
   "source": [
    "'''\n",
    "Dynamic Problem - Handling of Overlapping problems, where sub problems repeat\n",
    "\n",
    "Requirement for having a Dynamic Problem Solution:\n",
    "\n",
    "1] Need to have Overlapping sub problems\n",
    "2] Need to have optimized sub structure\n",
    "\n",
    "\n",
    "Memoization - store the solution of the reapeating problem, so that it becomes O(n)\n",
    "\n",
    "Optimized Substructure - If you have optimized path from A to B and B to C, you already have optimized path from A to C\n",
    "\n",
    "Only prob: takes up huge memmory\n",
    "\n",
    "\n",
    "'''"
   ]
  },
  {
   "cell_type": "code",
   "execution_count": null,
   "id": "0c4e0f5f",
   "metadata": {},
   "outputs": [],
   "source": [
    "# Hard coded Fibonacci\n",
    "\n",
    "def fib(n):    # O(2^n)\n",
    "    x = 0\n",
    "    y = 1\n",
    "\n",
    "    if n == 1:\n",
    "        print(0)\n",
    "    elif n == 2:\n",
    "        print(0)\n",
    "        print(1)\n",
    "    else:\n",
    "        print(0)\n",
    "        print(1)\n",
    "        for i in range(n - 2):  # Already printed first two numbers\n",
    "            z = x + y\n",
    "            print(z)\n",
    "            x = y\n",
    "            y = z\n",
    "\n",
    "limit = int(input(\"Enter limit: \"))  # Correct input capture\n",
    "fib(limit)"
   ]
  },
  {
   "cell_type": "code",
   "execution_count": null,
   "id": "a53cd034",
   "metadata": {},
   "outputs": [],
   "source": [
    "# Dynamic programming, fib 2.0\n",
    "\n",
    "memo = [None] * 100 \n",
    "\n",
    "def fib(n):                  # O(2n-1)\n",
    "    if memo[n] is not None:\n",
    "        return memo[n]\n",
    "\n",
    "    if n==0 or n==1:\n",
    "        return n\n",
    "    \n",
    "    memo[n] = fib(n-1)+fib(n-2)\n",
    "\n",
    "    return memo[n]"
   ]
  },
  {
   "cell_type": "code",
   "execution_count": null,
   "id": "2f852297",
   "metadata": {},
   "outputs": [],
   "source": [
    "'''\n",
    "2 Ways in DP: \n",
    "\n",
    "Top down (fib 2.0): solving the highest first\n",
    "\n",
    "Bottom up(fib 3.0) \n",
    "'''"
   ]
  },
  {
   "cell_type": "code",
   "execution_count": null,
   "id": "279754f3",
   "metadata": {},
   "outputs": [],
   "source": [
    "#fib 3.0 \n",
    "\n",
    "def fib(n): # O(n-1)\n",
    "    fib_list=[0,1]\n",
    "\n",
    "    for index in range(2,n+1):\n",
    "        next_fib = fib_list[n-1] + fib_list[n-2]\n",
    "        fib_list.append(next_fib)\n",
    "    return fib_list[n]"
   ]
  },
  {
   "cell_type": "code",
   "execution_count": null,
   "id": "4f46667a",
   "metadata": {},
   "outputs": [],
   "source": [
    "# fib 2.0 , Top down\n",
    "memo = [None] * 100\n",
    "def fib(n): # T O(2n-1) S(n)\n",
    "    if memo[n] is not None:\n",
    "        return memo[n]\n",
    "    if n==0 or n==1:\n",
    "        return n\n",
    "    memo[n] = fib(n-1)+fib(n-2)\n",
    "    return memo[n]\n",
    "\n",
    "#fib 3.0, bottom up\n",
    "def fib(n): # T O(n-1) S(n)\n",
    "    fib_list=[0,1]\n",
    "    for index in range(2,n+1):\n",
    "        next_fib = fib_list[n-1] + fib_list[n-2]\n",
    "        fib_list.append(next_fib)\n",
    "    return fib_list[n]"
   ]
  }
 ],
 "metadata": {
  "kernelspec": {
   "display_name": "Python 3",
   "language": "python",
   "name": "python3"
  },
  "language_info": {
   "codemirror_mode": {
    "name": "ipython",
    "version": 3
   },
   "file_extension": ".py",
   "mimetype": "text/x-python",
   "name": "python",
   "nbconvert_exporter": "python",
   "pygments_lexer": "ipython3",
   "version": "3.13.3"
  }
 },
 "nbformat": 4,
 "nbformat_minor": 5
}
