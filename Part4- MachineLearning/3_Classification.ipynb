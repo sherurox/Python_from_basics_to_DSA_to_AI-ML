{
 "cells": [
  {
   "cell_type": "code",
   "execution_count": null,
   "id": "d419eb1c",
   "metadata": {},
   "outputs": [],
   "source": [
    "'''\n",
    "Welcome to Part 3 - Classification!\n",
    "\n",
    "Unlike regression where you predict a continuous number, you use classification to predict a category. \n",
    "There is a wide variety of classification applications from medicine to marketing. \n",
    "Classification models include linear models like Logistic Regression, SVM, \n",
    "and nonlinear ones like K-NN, Kernel SVM and Random Forests.\n",
    "\n",
    "In this part, you will understand and learn how to implement the following Machine Learning Classification models:\n",
    "\n",
    "Logistic Regression\n",
    "K-Nearest Neighbors (K-NN)\n",
    "Support Vector Machine (SVM)\n",
    "Kernel SVM\n",
    "Naive Bayes\n",
    "Decision Tree Classification\n",
    "Random Forest Classification\n",
    "\n",
    "Classification: a Machine Learning technique used to identify the CATEGORY of a new observation based on the training data\n",
    "\n",
    "'''"
   ]
  }
 ],
 "metadata": {
  "language_info": {
   "name": "python"
  }
 },
 "nbformat": 4,
 "nbformat_minor": 5
}
